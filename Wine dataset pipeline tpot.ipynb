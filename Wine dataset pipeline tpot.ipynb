{
 "cells": [
  {
   "cell_type": "markdown",
   "metadata": {},
   "source": [
    "Tutorial from\n",
    "\n",
    "https://elitedatascience.com/python-machine-learning-tutorial-scikit-learn#step-2"
   ]
  },
  {
   "cell_type": "markdown",
   "metadata": {},
   "source": [
    "#### Import the relevant libraries"
   ]
  },
  {
   "cell_type": "code",
   "execution_count": null,
   "metadata": {},
   "outputs": [],
   "source": [
    "#efficient numerical computation\n",
    "import numpy as np\n",
    "#easy dataframe handling\n",
    "import pandas as pd\n",
    "\n",
    "#preprocessing: scaling, transforming and wrangling\n",
    "from sklearn import preprocessing\n",
    "\n",
    "#sampling helper and model performance evaluator\n",
    "from sklearn.model_selection import train_test_split, GridSearchCV\n",
    "\n",
    "#cross-validation help\n",
    "from sklearn.pipeline import Pipeline, make_pipeline\n",
    "\n",
    "#metrics for evaluating model performance\n",
    "from sklearn.metrics import mean_squared_error, mean_absolute_error, r2_score\n",
    "\n",
    "#To save our model for future use\n",
    "from sklearn.externals import joblib #like pickle but more efficient for larger np arrays\n",
    "\n",
    "import matplotlib.pyplot as plt\n",
    "import seaborn as sns\n",
    "sns.set()"
   ]
  },
  {
   "cell_type": "markdown",
   "metadata": {},
   "source": [
    "# The Data\n",
    "\n",
    "http://archive.ics.uci.edu/ml/datasets/Wine\n",
    "\n",
    "to see how we can maximise red wine quality"
   ]
  },
  {
   "cell_type": "code",
   "execution_count": null,
   "metadata": {},
   "outputs": [],
   "source": [
    "dataset_url = 'http://mlr.cs.umass.edu/ml/machine-learning-databases/wine-quality/winequality-red.csv'\n",
    "data = pd.read_csv(dataset_url, sep=';')\n",
    "data.head()"
   ]
  },
  {
   "cell_type": "markdown",
   "metadata": {},
   "source": [
    "#### Our task is to predict wine quality using the following attributes: \n",
    "'fixed acidity', 'volatile acidity', 'citric acid', 'residual sugar', 'chlorides', 'free sulfur dioxide', 'total sulfur dioxide', 'density', 'pH', 'sulphates' and 'alcohol'"
   ]
  },
  {
   "cell_type": "markdown",
   "metadata": {},
   "source": [
    "# Exploratory Data analysis"
   ]
  },
  {
   "cell_type": "code",
   "execution_count": null,
   "metadata": {},
   "outputs": [],
   "source": [
    "y = data.quality     #targets column\n",
    "X = data.drop('quality', axis=1)  #features \n",
    "\n",
    "print('\\nOur data has %d observations and %d features' %(X.shape[0], X.shape[1]))\n",
    "display(data.head())\n",
    "\n",
    "print('\\nThere are', y.nunique(), 'Unique values for quality, namely:', sorted(y.unique())) \n"
   ]
  },
  {
   "cell_type": "code",
   "execution_count": null,
   "metadata": {},
   "outputs": [],
   "source": [
    "dataset_url = 'http://mlr.cs.umass.edu/ml/machine-learning-databases/wine-quality/winequality-red.csv'\n",
    "data = pd.read_csv(dataset_url, sep=';')\n",
    "data.head()\n",
    "\n",
    "y = data.quality     #targets column\n",
    "X = data.drop('quality', axis=1)  #features \n",
    "\n",
    "print('\\nOur data has %d observations and %d features' %(X.shape[0], X.shape[1]))\n",
    "display(data.head())\n",
    "\n",
    "print('\\nThere are', y.nunique(), 'Unique values for quality, namely:', sorted(y.unique())) \n"
   ]
  },
  {
   "cell_type": "markdown",
   "metadata": {},
   "source": [
    "### Let's visualise our data\n",
    "\n",
    "Let's say wines with quality $>= 7$ are good quality, \n",
    "\n",
    "$5 \\leq$ quality $< 6 \\implies$ average quality \n",
    "\n",
    "and quality $< 5$ is bad quality "
   ]
  },
  {
   "cell_type": "code",
   "execution_count": null,
   "metadata": {},
   "outputs": [],
   "source": [
    "vgq = data[y>6]  #top tier quality\n",
    "aq = data[(y>=5) & (y<=6)]  #average quality\n",
    "bq = data[y<5]   #bad quality\n",
    "\n",
    "print('%.2f %% of the wines are of top tier quality' %(100*len(vgq)/len(y)))\n",
    "print('%.2f %% of the wines are of average quality' %(100*len(aq)/len(y)))\n",
    "print('%.2f %% of the wines are below average quality' %(100*len(bq)/len(y)))"
   ]
  },
  {
   "cell_type": "code",
   "execution_count": null,
   "metadata": {
    "scrolled": true
   },
   "outputs": [],
   "source": [
    "sns.distplot(y, norm_hist=False, kde=False)\n",
    "plt.title('Wine quality feature distribution')\n",
    "plt.ylabel('Number of observations')\n",
    "plt.show()"
   ]
  },
  {
   "cell_type": "markdown",
   "metadata": {},
   "source": [
    "Most wines are of average quality, less than half are above average while even fewer are below average"
   ]
  },
  {
   "cell_type": "markdown",
   "metadata": {},
   "source": [
    "Let's separate the wines of quality $\\geq 7$ from the rest of the wines. \n",
    "We will be building classifiers for the very good wine quality only."
   ]
  },
  {
   "cell_type": "code",
   "execution_count": null,
   "metadata": {},
   "outputs": [],
   "source": []
  },
  {
   "cell_type": "code",
   "execution_count": null,
   "metadata": {},
   "outputs": [],
   "source": []
  },
  {
   "cell_type": "markdown",
   "metadata": {},
   "source": [
    "## Correlations between the features"
   ]
  },
  {
   "cell_type": "code",
   "execution_count": null,
   "metadata": {
    "scrolled": true
   },
   "outputs": [],
   "source": [
    "#pd.plotting.scatter_matrix(data, alpha = 0.3, figsize = (40,40), diagonal = 'kde');\n",
    "\n"
   ]
  },
  {
   "cell_type": "code",
   "execution_count": null,
   "metadata": {
    "scrolled": true
   },
   "outputs": [],
   "source": [
    "correlation = data.corr()\n",
    "plt.figure(figsize=(14,12))\n",
    "plt.title('Correlation')\n",
    "#sns.heatmap(correlation, annot=True, linewidths=0, vmin=-1, cmap=\"RdBu_r\")\n",
    "#plt.show()"
   ]
  },
  {
   "cell_type": "markdown",
   "metadata": {},
   "source": [
    "Red squares: positive correlation, increase in one $\\implies$ increase in the other\n",
    "\n",
    "Blue squares: negative correlation, increase in one $\\implies$ decrease in the other"
   ]
  },
  {
   "cell_type": "markdown",
   "metadata": {},
   "source": [
    "# Preprocessing\n",
    "## Split data into training and test sets"
   ]
  },
  {
   "cell_type": "code",
   "execution_count": null,
   "metadata": {},
   "outputs": [],
   "source": [
    "X_train, X_test, y_train, y_test = train_test_split(X, y, \n",
    "                                                    test_size=0.2,\n",
    "                                                   random_state=0,\n",
    "                                                   stratify=y)\n",
    "# 5: Declare data processing steps\n",
    "\n",
    "#columns with missing data\n",
    "print(data.isnull().any())\n",
    "#cols_with_missing = [col for col in X.columns if X[col].isnull().any()]\n",
    "#No missing data\n",
    "\n",
    "#Categorical values?\n",
    "cat = [cname for cname in X.columns if X[cname].dtype == 'object']\n",
    "print('categorical columns\\n', cat)\n",
    "#no categorical variables\n",
    "\n",
    "#numerical data?\n",
    "num = [cname for cname in X.columns if X[cname].dtype in ['int64','float64']]\n",
    "print(num == X.columns)\n",
    "#All columns contain numerical data\n",
    "\n",
    "#preprocessing will entail standardizing"
   ]
  },
  {
   "cell_type": "code",
   "execution_count": null,
   "metadata": {},
   "outputs": [],
   "source": [
    "y = data.quality     #targets column\n",
    "X = data.drop('quality', axis=1)  #features \n",
    "\n",
    "print('\\nOur data has %d observations and %d features' %(X.shape[0], X.shape[1]))\n",
    "display(data.head())\n",
    "\n",
    "print('\\nThere are', y.nunique(), 'Unique values for quality, namely:', sorted(y.unique())) \n",
    "\n",
    "X_train, X_test, y_train, y_test = train_test_split(X, y, \n",
    "                                                    test_size=0.2,\n",
    "                                                   random_state=0,\n",
    "                                                   stratify=y)\n",
    "# 5: Declare data processing steps\n",
    "\n",
    "#columns with missing data\n",
    "print(data.isnull().any())\n",
    "#cols_with_missing = [col for col in X.columns if X[col].isnull().any()]\n",
    "#No missing data\n",
    "\n",
    "#Categorical values?\n",
    "cat = [cname for cname in X.columns if X[cname].dtype == 'object']\n",
    "print('categorical columns\\n', cat)\n",
    "#no categorical variables\n",
    "\n",
    "#numerical data?\n",
    "num = [cname for cname in X.columns if X[cname].dtype in ['int64','float64']]\n",
    "print(num == X.columns)\n",
    "#All columns contain numerical data\n",
    "\n",
    "#preprocessing will entail standardizing"
   ]
  },
  {
   "cell_type": "markdown",
   "metadata": {},
   "source": [
    "* All the features are numeric (convenient!)\n",
    "\n",
    "* They have different scales (We should standardize them later)"
   ]
  },
  {
   "cell_type": "markdown",
   "metadata": {},
   "source": [
    "# Models"
   ]
  },
  {
   "cell_type": "markdown",
   "metadata": {},
   "source": [
    "### Create RandomForestRegressor pipeline"
   ]
  },
  {
   "cell_type": "code",
   "execution_count": null,
   "metadata": {},
   "outputs": [],
   "source": [
    "y = data.quality     #targets column\n",
    "X = data.drop('quality', axis=1)  #features \n",
    "\n",
    "print('\\nOur data has %d observations and %d features' %(X.shape[0], X.shape[1]))\n",
    "display(data.head())\n",
    "\n",
    "print('\\nThere are', y.nunique(), 'Unique values for quality, namely:', sorted(y.unique())) \n",
    "\n",
    "X_train, X_test, y_train, y_test = train_test_split(X, y, \n",
    "                                                    test_size=0.2,\n",
    "                                                   random_state=0,\n",
    "                                                   stratify=y)\n",
    "# 5: Declare data processing steps\n",
    "\n",
    "#columns with missing data\n",
    "print(data.isnull().any())\n",
    "#cols_with_missing = [col for col in X.columns if X[col].isnull().any()]\n",
    "#No missing data\n",
    "\n",
    "#Categorical values?\n",
    "cat = [cname for cname in X.columns if X[cname].dtype == 'object']\n",
    "print('categorical columns\\n', cat)\n",
    "#no categorical variables\n",
    "\n",
    "#numerical data?\n",
    "num = [cname for cname in X.columns if X[cname].dtype in ['int64','float64']]\n",
    "print(num == X.columns)\n",
    "#All columns contain numerical data\n",
    "\n",
    "#preprocessing will entail standardizing"
   ]
  },
  {
   "cell_type": "markdown",
   "metadata": {},
   "source": [
    "### Let's try tpot\n",
    "\n",
    "ref: https://github.com/srivatsan88/TPOT/blob/master/TPOT.ipynb"
   ]
  },
  {
   "cell_type": "code",
   "execution_count": 2,
   "metadata": {},
   "outputs": [
    {
     "name": "stdout",
     "output_type": "stream",
     "text": [
      "\n",
      "Our data has 1599 observations and 11 features\n"
     ]
    },
    {
     "data": {
      "text/html": [
       "<div>\n",
       "<style scoped>\n",
       "    .dataframe tbody tr th:only-of-type {\n",
       "        vertical-align: middle;\n",
       "    }\n",
       "\n",
       "    .dataframe tbody tr th {\n",
       "        vertical-align: top;\n",
       "    }\n",
       "\n",
       "    .dataframe thead th {\n",
       "        text-align: right;\n",
       "    }\n",
       "</style>\n",
       "<table border=\"1\" class=\"dataframe\">\n",
       "  <thead>\n",
       "    <tr style=\"text-align: right;\">\n",
       "      <th></th>\n",
       "      <th>fixed acidity</th>\n",
       "      <th>volatile acidity</th>\n",
       "      <th>citric acid</th>\n",
       "      <th>residual sugar</th>\n",
       "      <th>chlorides</th>\n",
       "      <th>free sulfur dioxide</th>\n",
       "      <th>total sulfur dioxide</th>\n",
       "      <th>density</th>\n",
       "      <th>pH</th>\n",
       "      <th>sulphates</th>\n",
       "      <th>alcohol</th>\n",
       "      <th>quality</th>\n",
       "    </tr>\n",
       "  </thead>\n",
       "  <tbody>\n",
       "    <tr>\n",
       "      <th>0</th>\n",
       "      <td>7.4</td>\n",
       "      <td>0.70</td>\n",
       "      <td>0.00</td>\n",
       "      <td>1.9</td>\n",
       "      <td>0.076</td>\n",
       "      <td>11.0</td>\n",
       "      <td>34.0</td>\n",
       "      <td>0.9978</td>\n",
       "      <td>3.51</td>\n",
       "      <td>0.56</td>\n",
       "      <td>9.4</td>\n",
       "      <td>5</td>\n",
       "    </tr>\n",
       "    <tr>\n",
       "      <th>1</th>\n",
       "      <td>7.8</td>\n",
       "      <td>0.88</td>\n",
       "      <td>0.00</td>\n",
       "      <td>2.6</td>\n",
       "      <td>0.098</td>\n",
       "      <td>25.0</td>\n",
       "      <td>67.0</td>\n",
       "      <td>0.9968</td>\n",
       "      <td>3.20</td>\n",
       "      <td>0.68</td>\n",
       "      <td>9.8</td>\n",
       "      <td>5</td>\n",
       "    </tr>\n",
       "    <tr>\n",
       "      <th>2</th>\n",
       "      <td>7.8</td>\n",
       "      <td>0.76</td>\n",
       "      <td>0.04</td>\n",
       "      <td>2.3</td>\n",
       "      <td>0.092</td>\n",
       "      <td>15.0</td>\n",
       "      <td>54.0</td>\n",
       "      <td>0.9970</td>\n",
       "      <td>3.26</td>\n",
       "      <td>0.65</td>\n",
       "      <td>9.8</td>\n",
       "      <td>5</td>\n",
       "    </tr>\n",
       "    <tr>\n",
       "      <th>3</th>\n",
       "      <td>11.2</td>\n",
       "      <td>0.28</td>\n",
       "      <td>0.56</td>\n",
       "      <td>1.9</td>\n",
       "      <td>0.075</td>\n",
       "      <td>17.0</td>\n",
       "      <td>60.0</td>\n",
       "      <td>0.9980</td>\n",
       "      <td>3.16</td>\n",
       "      <td>0.58</td>\n",
       "      <td>9.8</td>\n",
       "      <td>6</td>\n",
       "    </tr>\n",
       "    <tr>\n",
       "      <th>4</th>\n",
       "      <td>7.4</td>\n",
       "      <td>0.70</td>\n",
       "      <td>0.00</td>\n",
       "      <td>1.9</td>\n",
       "      <td>0.076</td>\n",
       "      <td>11.0</td>\n",
       "      <td>34.0</td>\n",
       "      <td>0.9978</td>\n",
       "      <td>3.51</td>\n",
       "      <td>0.56</td>\n",
       "      <td>9.4</td>\n",
       "      <td>5</td>\n",
       "    </tr>\n",
       "  </tbody>\n",
       "</table>\n",
       "</div>"
      ],
      "text/plain": [
       "   fixed acidity  volatile acidity  citric acid  residual sugar  chlorides  \\\n",
       "0            7.4              0.70         0.00             1.9      0.076   \n",
       "1            7.8              0.88         0.00             2.6      0.098   \n",
       "2            7.8              0.76         0.04             2.3      0.092   \n",
       "3           11.2              0.28         0.56             1.9      0.075   \n",
       "4            7.4              0.70         0.00             1.9      0.076   \n",
       "\n",
       "   free sulfur dioxide  total sulfur dioxide  density    pH  sulphates  \\\n",
       "0                 11.0                  34.0   0.9978  3.51       0.56   \n",
       "1                 25.0                  67.0   0.9968  3.20       0.68   \n",
       "2                 15.0                  54.0   0.9970  3.26       0.65   \n",
       "3                 17.0                  60.0   0.9980  3.16       0.58   \n",
       "4                 11.0                  34.0   0.9978  3.51       0.56   \n",
       "\n",
       "   alcohol  quality  \n",
       "0      9.4        5  \n",
       "1      9.8        5  \n",
       "2      9.8        5  \n",
       "3      9.8        6  \n",
       "4      9.4        5  "
      ]
     },
     "metadata": {},
     "output_type": "display_data"
    },
    {
     "name": "stdout",
     "output_type": "stream",
     "text": [
      "\n",
      "There are 6 Unique values for quality, namely: [3, 4, 5, 6, 7, 8]\n",
      "fixed acidity           False\n",
      "volatile acidity        False\n",
      "citric acid             False\n",
      "residual sugar          False\n",
      "chlorides               False\n",
      "free sulfur dioxide     False\n",
      "total sulfur dioxide    False\n",
      "density                 False\n",
      "pH                      False\n",
      "sulphates               False\n",
      "alcohol                 False\n",
      "quality                 False\n",
      "dtype: bool\n",
      "categorical columns\n",
      " []\n",
      "[ True  True  True  True  True  True  True  True  True  True  True]\n"
     ]
    }
   ],
   "source": [
    "#efficient numerical computation\n",
    "import numpy as np\n",
    "#easy dataframe handling\n",
    "import pandas as pd\n",
    "\n",
    "#preprocessing: scaling, transforming and wrangling\n",
    "from sklearn import preprocessing\n",
    "\n",
    "#sampling helper and model performance evaluator\n",
    "from sklearn.model_selection import train_test_split, GridSearchCV\n",
    "\n",
    "#cross-validation help\n",
    "from sklearn.pipeline import Pipeline, make_pipeline\n",
    "\n",
    "#metrics for evaluating model performance\n",
    "from sklearn.metrics import mean_squared_error, mean_absolute_error, r2_score\n",
    "\n",
    "#To save our model for future use\n",
    "from sklearn.externals import joblib #like pickle but more efficient for larger np arrays\n",
    "\n",
    "import matplotlib.pyplot as plt\n",
    "import seaborn as sns\n",
    "sns.set()\n",
    "dataset_url = 'http://mlr.cs.umass.edu/ml/machine-learning-databases/wine-quality/winequality-red.csv'\n",
    "data = pd.read_csv(dataset_url, sep=';')\n",
    "data.head()\n",
    "y = data.quality     #targets column\n",
    "X = data.drop('quality', axis=1)  #features \n",
    "\n",
    "print('\\nOur data has %d observations and %d features' %(X.shape[0], X.shape[1]))\n",
    "display(data.head())\n",
    "\n",
    "print('\\nThere are', y.nunique(), 'Unique values for quality, namely:', sorted(y.unique())) \n",
    "\n",
    "X_train, X_test, y_train, y_test = train_test_split(X, y, \n",
    "                                                    test_size=0.2,\n",
    "                                                   random_state=0,\n",
    "                                                   stratify=y)\n",
    "# 5: Declare data processing steps\n",
    "\n",
    "#columns with missing data\n",
    "print(data.isnull().any())\n",
    "#cols_with_missing = [col for col in X.columns if X[col].isnull().any()]\n",
    "#No missing data\n",
    "\n",
    "#Categorical values?\n",
    "cat = [cname for cname in X.columns if X[cname].dtype == 'object']\n",
    "print('categorical columns\\n', cat)\n",
    "#no categorical variables\n",
    "\n",
    "#numerical data?\n",
    "num = [cname for cname in X.columns if X[cname].dtype in ['int64','float64']]\n",
    "print(num == X.columns)\n",
    "#All columns contain numerical data\n",
    "\n",
    "#preprocessing will entail standardizing"
   ]
  },
  {
   "cell_type": "code",
   "execution_count": null,
   "metadata": {},
   "outputs": [],
   "source": []
  },
  {
   "cell_type": "code",
   "execution_count": null,
   "metadata": {},
   "outputs": [],
   "source": []
  },
  {
   "cell_type": "code",
   "execution_count": null,
   "metadata": {},
   "outputs": [],
   "source": []
  },
  {
   "cell_type": "markdown",
   "metadata": {},
   "source": [
    "# References:\n",
    "https://www.freecodecamp.org/news/using-data-science-to-understand-what-makes-wine-taste-good-669b496c67ee/\n",
    "\n"
   ]
  }
 ],
 "metadata": {
  "kernelspec": {
   "display_name": "Python 3",
   "language": "python",
   "name": "python3"
  },
  "language_info": {
   "codemirror_mode": {
    "name": "ipython",
    "version": 3
   },
   "file_extension": ".py",
   "mimetype": "text/x-python",
   "name": "python",
   "nbconvert_exporter": "python",
   "pygments_lexer": "ipython3",
   "version": "3.7.3"
  }
 },
 "nbformat": 4,
 "nbformat_minor": 2
}
